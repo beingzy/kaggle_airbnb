{
 "cells": [
  {
   "cell_type": "markdown",
   "metadata": {},
   "source": [
    "#### Train RandomForest Model to deliver 1st generation of prediction\n",
    "    * feature: demographic informaiton + binary varialbe (about if session data available)\n",
    "    * algorithm: random-forest"
   ]
  },
  {
   "cell_type": "code",
   "execution_count": 1,
   "metadata": {
    "collapsed": false
   },
   "outputs": [
    {
     "data": {
      "text/plain": [
       "'%.4f'"
      ]
     },
     "execution_count": 1,
     "metadata": {},
     "output_type": "execute_result"
    }
   ],
   "source": [
    "import sys\n",
    "import os\n",
    "import glob\n",
    "import numpy as np\n",
    "import scipy as sp\n",
    "import pandas as pd\n",
    "import matplotlib.pyplot as plt\n",
    "import sklearn\n",
    "\n",
    "%matplotlib inline\n",
    "%precision 4"
   ]
  },
  {
   "cell_type": "code",
   "execution_count": 34,
   "metadata": {
    "collapsed": true
   },
   "outputs": [],
   "source": [
    "root_dir = os.getcwd()\n",
    "data_dir = os.path.join(root_dir, 'data')\n",
    "output_dir = os.path.join(root_dir, 'output')\n",
    "images_dir = os.path.join(root_dir, 'images')\n",
    "model_dir = os.path.join(root_dir, 'models')"
   ]
  },
  {
   "cell_type": "code",
   "execution_count": 3,
   "metadata": {
    "collapsed": true
   },
   "outputs": [],
   "source": [
    "from os.path import join\n",
    "\n",
    "train_user = pd.read_csv(join(data_dir, 'train_users.csv'), header=0)\n",
    "test_user  = pd.read_csv(join(data_dir, 'test_users.csv'), header=0)\n",
    "session_df = pd.read_csv(join(data_dir, 'sessions.csv'), header=0)"
   ]
  },
  {
   "cell_type": "code",
   "execution_count": 4,
   "metadata": {
    "collapsed": true
   },
   "outputs": [],
   "source": [
    "# create session availabilit indicator\n",
    "session_uid = session_df['user_id'].unique()"
   ]
  },
  {
   "cell_type": "code",
   "execution_count": 5,
   "metadata": {
    "collapsed": false
   },
   "outputs": [
    {
     "name": "stdout",
     "output_type": "stream",
     "text": [
      "31202 (171239) of users found session records\n"
     ]
    }
   ],
   "source": [
    "train_user['session_ind'] = train_user['id'].isin(session_uid)\n",
    "train_user['session_ind'] = train_user['session_ind'].apply(lambda x: 1 if x==True else 0)\n",
    "print(\"{} ({}) of users found session records\".format(sum(train_user['session_ind']), train_user.shape[0]))"
   ]
  },
  {
   "cell_type": "code",
   "execution_count": 6,
   "metadata": {
    "collapsed": false
   },
   "outputs": [
    {
     "name": "stdout",
     "output_type": "stream",
     "text": [
      "43408 (43673) of users found session records\n"
     ]
    }
   ],
   "source": [
    "test_user['session_ind'] = test_user['id'].isin(session_uid)\n",
    "test_user['session_ind'] = test_user['session_ind'].apply(lambda x: 1 if x==True else 0)\n",
    "print(\"{} ({}) of users found session records\".format(sum(test_user['session_ind']), test_user.shape[0]))"
   ]
  },
  {
   "cell_type": "code",
   "execution_count": 7,
   "metadata": {
    "collapsed": false
   },
   "outputs": [
    {
     "data": {
      "text/html": [
       "<div>\n",
       "<table border=\"1\" class=\"dataframe\">\n",
       "  <thead>\n",
       "    <tr style=\"text-align: right;\">\n",
       "      <th>country_destination</th>\n",
       "      <th>0</th>\n",
       "      <th>1</th>\n",
       "      <th>All</th>\n",
       "    </tr>\n",
       "    <tr>\n",
       "      <th>session_ind</th>\n",
       "      <th></th>\n",
       "      <th></th>\n",
       "      <th></th>\n",
       "    </tr>\n",
       "  </thead>\n",
       "  <tbody>\n",
       "    <tr>\n",
       "      <th>0</th>\n",
       "      <td>80163</td>\n",
       "      <td>59874</td>\n",
       "      <td>140037</td>\n",
       "    </tr>\n",
       "    <tr>\n",
       "      <th>1</th>\n",
       "      <td>18989</td>\n",
       "      <td>12213</td>\n",
       "      <td>31202</td>\n",
       "    </tr>\n",
       "    <tr>\n",
       "      <th>All</th>\n",
       "      <td>99152</td>\n",
       "      <td>72087</td>\n",
       "      <td>171239</td>\n",
       "    </tr>\n",
       "  </tbody>\n",
       "</table>\n",
       "</div>"
      ],
      "text/plain": [
       "country_destination      0      1     All\n",
       "session_ind                              \n",
       "0                    80163  59874  140037\n",
       "1                    18989  12213   31202\n",
       "All                  99152  72087  171239"
      ]
     },
     "execution_count": 7,
     "metadata": {},
     "output_type": "execute_result"
    }
   ],
   "source": [
    "train_dest_ind = train_user['country_destination'].apply(lambda x: 1 if x!='NDF' else 0)\n",
    "pd.crosstab(train_user['session_ind'], train_dest_ind, margins=True)"
   ]
  },
  {
   "cell_type": "markdown",
   "metadata": {},
   "source": [
    "### conditional probability of booked trip on session_id\n",
    "\n",
    "* p(booked | session_ind=False) = 0.428\n",
    "* p(booked | session_indx=True) = 0.391\n",
    "\n",
    "### conclusion: if having session record is irrelevant on if customer booked a trip"
   ]
  },
  {
   "cell_type": "code",
   "execution_count": 8,
   "metadata": {
    "collapsed": false
   },
   "outputs": [
    {
     "name": "stdout",
     "output_type": "stream",
     "text": [
      "chi-square:753.5918275937361, p-value:3.246969993693663e-51\n"
     ]
    }
   ],
   "source": [
    "# chi-sqaure test on correlation between destination country and lanaguage preferrence\n",
    "from scipy.stats import chi2_contingency\n",
    "\n",
    "dest_lang_crosstab = pd.crosstab(train_user['country_destination'], train_user['language'])\n",
    "chi2, p, dof, ex  = chi2_contingency(dest_lang_crosstab, correction=True)\n",
    "\n",
    "print(\"chi-square:{}, p-value:{}\".format(chi2, p))"
   ]
  },
  {
   "cell_type": "markdown",
   "metadata": {},
   "source": [
    "### Conclusion: \n",
    "strong correlation between session_record availibility and booked trip, P-value << 0.05% rejected the null hypothesis: (two variable are independent), the alternative hypothesis (destination country is correlated with language perferrence) is accepted."
   ]
  },
  {
   "cell_type": "code",
   "execution_count": 9,
   "metadata": {
    "collapsed": false
   },
   "outputs": [
    {
     "data": {
      "text/html": [
       "<div>\n",
       "<table border=\"1\" class=\"dataframe\">\n",
       "  <thead>\n",
       "    <tr style=\"text-align: right;\">\n",
       "      <th>gender</th>\n",
       "      <th>-unknown-</th>\n",
       "      <th>FEMALE</th>\n",
       "      <th>MALE</th>\n",
       "      <th>OTHER</th>\n",
       "      <th>All</th>\n",
       "    </tr>\n",
       "    <tr>\n",
       "      <th>country_destination</th>\n",
       "      <th></th>\n",
       "      <th></th>\n",
       "      <th></th>\n",
       "      <th></th>\n",
       "      <th></th>\n",
       "    </tr>\n",
       "  </thead>\n",
       "  <tbody>\n",
       "    <tr>\n",
       "      <th>0</th>\n",
       "      <td>50829</td>\n",
       "      <td>25960</td>\n",
       "      <td>22265</td>\n",
       "      <td>98</td>\n",
       "      <td>99152</td>\n",
       "    </tr>\n",
       "    <tr>\n",
       "      <th>1</th>\n",
       "      <td>23179</td>\n",
       "      <td>26290</td>\n",
       "      <td>22475</td>\n",
       "      <td>143</td>\n",
       "      <td>72087</td>\n",
       "    </tr>\n",
       "    <tr>\n",
       "      <th>All</th>\n",
       "      <td>74008</td>\n",
       "      <td>52250</td>\n",
       "      <td>44740</td>\n",
       "      <td>241</td>\n",
       "      <td>171239</td>\n",
       "    </tr>\n",
       "  </tbody>\n",
       "</table>\n",
       "</div>"
      ],
      "text/plain": [
       "gender               -unknown-  FEMALE   MALE  OTHER     All\n",
       "country_destination                                         \n",
       "0                        50829   25960  22265     98   99152\n",
       "1                        23179   26290  22475    143   72087\n",
       "All                      74008   52250  44740    241  171239"
      ]
     },
     "execution_count": 9,
     "metadata": {},
     "output_type": "execute_result"
    }
   ],
   "source": [
    "pd.crosstab(train_dest_ind, train_user['gender'], margins=True)"
   ]
  },
  {
   "cell_type": "code",
   "execution_count": 10,
   "metadata": {
    "collapsed": false
   },
   "outputs": [
    {
     "name": "stdout",
     "output_type": "stream",
     "text": [
      "ratio: 2.007032885150398\n"
     ]
    }
   ],
   "source": [
    "# Gender: OTHER's influence on country_destination\n",
    "print(\"ratio: {}\".format( (143/72087.0) / (98/99152.0) ))"
   ]
  },
  {
   "cell_type": "code",
   "execution_count": 11,
   "metadata": {
    "collapsed": false
   },
   "outputs": [
    {
     "data": {
      "text/html": [
       "<div>\n",
       "<table border=\"1\" class=\"dataframe\">\n",
       "  <thead>\n",
       "    <tr style=\"text-align: right;\">\n",
       "      <th>age</th>\n",
       "      <th>0</th>\n",
       "      <th>1</th>\n",
       "      <th>All</th>\n",
       "    </tr>\n",
       "    <tr>\n",
       "      <th>country_destination</th>\n",
       "      <th></th>\n",
       "      <th></th>\n",
       "      <th></th>\n",
       "    </tr>\n",
       "  </thead>\n",
       "  <tbody>\n",
       "    <tr>\n",
       "      <th>0</th>\n",
       "      <td>99108</td>\n",
       "      <td>44</td>\n",
       "      <td>99152</td>\n",
       "    </tr>\n",
       "    <tr>\n",
       "      <th>1</th>\n",
       "      <td>72072</td>\n",
       "      <td>15</td>\n",
       "      <td>72087</td>\n",
       "    </tr>\n",
       "    <tr>\n",
       "      <th>All</th>\n",
       "      <td>171180</td>\n",
       "      <td>59</td>\n",
       "      <td>171239</td>\n",
       "    </tr>\n",
       "  </tbody>\n",
       "</table>\n",
       "</div>"
      ],
      "text/plain": [
       "age                       0   1     All\n",
       "country_destination                    \n",
       "0                     99108  44   99152\n",
       "1                     72072  15   72087\n",
       "All                  171180  59  171239"
      ]
     },
     "execution_count": 11,
     "metadata": {},
     "output_type": "execute_result"
    }
   ],
   "source": [
    "# age outlier\n",
    "age_lt_15 = train_user['age'].apply(lambda x: 1 if x<15 else 0)\n",
    "age_gt_80 = train_user['age'].apply(lambda x: 1 if x>80 else 0)\n",
    "age_gt_100 = train_user['age'].apply(lambda x: 1 if x>100 else 0)\n",
    "\n",
    "pd.crosstab(train_dest_ind, age_lt_15, margins=True)"
   ]
  },
  {
   "cell_type": "code",
   "execution_count": 12,
   "metadata": {
    "collapsed": false
   },
   "outputs": [
    {
     "data": {
      "text/html": [
       "<div>\n",
       "<table border=\"1\" class=\"dataframe\">\n",
       "  <thead>\n",
       "    <tr style=\"text-align: right;\">\n",
       "      <th>age</th>\n",
       "      <th>0</th>\n",
       "      <th>1</th>\n",
       "      <th>All</th>\n",
       "    </tr>\n",
       "    <tr>\n",
       "      <th>country_destination</th>\n",
       "      <th></th>\n",
       "      <th></th>\n",
       "      <th></th>\n",
       "    </tr>\n",
       "  </thead>\n",
       "  <tbody>\n",
       "    <tr>\n",
       "      <th>0</th>\n",
       "      <td>98007</td>\n",
       "      <td>1145</td>\n",
       "      <td>99152</td>\n",
       "    </tr>\n",
       "    <tr>\n",
       "      <th>1</th>\n",
       "      <td>70869</td>\n",
       "      <td>1218</td>\n",
       "      <td>72087</td>\n",
       "    </tr>\n",
       "    <tr>\n",
       "      <th>All</th>\n",
       "      <td>168876</td>\n",
       "      <td>2363</td>\n",
       "      <td>171239</td>\n",
       "    </tr>\n",
       "  </tbody>\n",
       "</table>\n",
       "</div>"
      ],
      "text/plain": [
       "age                       0     1     All\n",
       "country_destination                      \n",
       "0                     98007  1145   99152\n",
       "1                     70869  1218   72087\n",
       "All                  168876  2363  171239"
      ]
     },
     "execution_count": 12,
     "metadata": {},
     "output_type": "execute_result"
    }
   ],
   "source": [
    "pd.crosstab(train_dest_ind, age_gt_80, margins=True)"
   ]
  },
  {
   "cell_type": "code",
   "execution_count": 13,
   "metadata": {
    "collapsed": false
   },
   "outputs": [
    {
     "data": {
      "text/html": [
       "<div>\n",
       "<table border=\"1\" class=\"dataframe\">\n",
       "  <thead>\n",
       "    <tr style=\"text-align: right;\">\n",
       "      <th>age</th>\n",
       "      <th>0</th>\n",
       "      <th>1</th>\n",
       "      <th>All</th>\n",
       "    </tr>\n",
       "    <tr>\n",
       "      <th>country_destination</th>\n",
       "      <th></th>\n",
       "      <th></th>\n",
       "      <th></th>\n",
       "    </tr>\n",
       "  </thead>\n",
       "  <tbody>\n",
       "    <tr>\n",
       "      <th>0</th>\n",
       "      <td>98261</td>\n",
       "      <td>891</td>\n",
       "      <td>99152</td>\n",
       "    </tr>\n",
       "    <tr>\n",
       "      <th>1</th>\n",
       "      <td>70978</td>\n",
       "      <td>1109</td>\n",
       "      <td>72087</td>\n",
       "    </tr>\n",
       "    <tr>\n",
       "      <th>All</th>\n",
       "      <td>169239</td>\n",
       "      <td>2000</td>\n",
       "      <td>171239</td>\n",
       "    </tr>\n",
       "  </tbody>\n",
       "</table>\n",
       "</div>"
      ],
      "text/plain": [
       "age                       0     1     All\n",
       "country_destination                      \n",
       "0                     98261   891   99152\n",
       "1                     70978  1109   72087\n",
       "All                  169239  2000  171239"
      ]
     },
     "execution_count": 13,
     "metadata": {},
     "output_type": "execute_result"
    }
   ],
   "source": [
    "pd.crosstab(train_dest_ind, age_gt_100, margins=True)"
   ]
  },
  {
   "cell_type": "code",
   "execution_count": 14,
   "metadata": {
    "collapsed": true
   },
   "outputs": [],
   "source": [
    "x_ctg_feats = ['gender', 'signup_method', 'signup_flow', 'language', 'affiliate_channel', 'affiliate_provider', \\\n",
    "               'first_affiliate_tracked', 'signup_app', 'first_device_type', 'first_browser', 'session_ind']\n",
    "x_num_feats = ['age']\n",
    "x_feats     = x_ctg_feats + x_num_feats\n",
    "y_feat      = 'country_destination'"
   ]
  },
  {
   "cell_type": "code",
   "execution_count": 15,
   "metadata": {
    "collapsed": false
   },
   "outputs": [
    {
     "data": {
      "text/html": [
       "<div>\n",
       "<table border=\"1\" class=\"dataframe\">\n",
       "  <thead>\n",
       "    <tr style=\"text-align: right;\">\n",
       "      <th></th>\n",
       "      <th>gender</th>\n",
       "      <th>signup_method</th>\n",
       "    </tr>\n",
       "  </thead>\n",
       "  <tbody>\n",
       "    <tr>\n",
       "      <th>1</th>\n",
       "      <td>MALE</td>\n",
       "      <td>facebook</td>\n",
       "    </tr>\n",
       "    <tr>\n",
       "      <th>2</th>\n",
       "      <td>FEMALE</td>\n",
       "      <td>basic</td>\n",
       "    </tr>\n",
       "    <tr>\n",
       "      <th>3</th>\n",
       "      <td>FEMALE</td>\n",
       "      <td>facebook</td>\n",
       "    </tr>\n",
       "    <tr>\n",
       "      <th>4</th>\n",
       "      <td>-unknown-</td>\n",
       "      <td>basic</td>\n",
       "    </tr>\n",
       "    <tr>\n",
       "      <th>5</th>\n",
       "      <td>-unknown-</td>\n",
       "      <td>basic</td>\n",
       "    </tr>\n",
       "    <tr>\n",
       "      <th>6</th>\n",
       "      <td>FEMALE</td>\n",
       "      <td>basic</td>\n",
       "    </tr>\n",
       "    <tr>\n",
       "      <th>7</th>\n",
       "      <td>FEMALE</td>\n",
       "      <td>basic</td>\n",
       "    </tr>\n",
       "    <tr>\n",
       "      <th>8</th>\n",
       "      <td>-unknown-</td>\n",
       "      <td>basic</td>\n",
       "    </tr>\n",
       "    <tr>\n",
       "      <th>9</th>\n",
       "      <td>-unknown-</td>\n",
       "      <td>basic</td>\n",
       "    </tr>\n",
       "    <tr>\n",
       "      <th>10</th>\n",
       "      <td>FEMALE</td>\n",
       "      <td>basic</td>\n",
       "    </tr>\n",
       "  </tbody>\n",
       "</table>\n",
       "</div>"
      ],
      "text/plain": [
       "       gender signup_method\n",
       "1        MALE      facebook\n",
       "2      FEMALE         basic\n",
       "3      FEMALE      facebook\n",
       "4   -unknown-         basic\n",
       "5   -unknown-         basic\n",
       "6      FEMALE         basic\n",
       "7      FEMALE         basic\n",
       "8   -unknown-         basic\n",
       "9   -unknown-         basic\n",
       "10     FEMALE         basic"
      ]
     },
     "execution_count": 15,
     "metadata": {},
     "output_type": "execute_result"
    }
   ],
   "source": [
    "# LabelEncoder: convert string-based categorical to integers\n",
    "# OneHotEncoder: re-encode integers with a set of binary indicators\n",
    "# DictVectorizer: convert dictionary (feat_name: value) to vectorization, do not transfrom numeric value, but, record \n",
    "#            categorical vector\n",
    "data = train_user.ix[1:10, ['gender', 'signup_method']]\n",
    "data"
   ]
  },
  {
   "cell_type": "code",
   "execution_count": 16,
   "metadata": {
    "collapsed": false
   },
   "outputs": [
    {
     "data": {
      "text/plain": [
       "dict_values([{'signup_method': 'facebook', 'gender': 'MALE'}, {'signup_method': 'basic', 'gender': 'FEMALE'}, {'signup_method': 'facebook', 'gender': 'FEMALE'}, {'signup_method': 'basic', 'gender': '-unknown-'}, {'signup_method': 'basic', 'gender': '-unknown-'}, {'signup_method': 'basic', 'gender': 'FEMALE'}, {'signup_method': 'basic', 'gender': 'FEMALE'}, {'signup_method': 'basic', 'gender': '-unknown-'}, {'signup_method': 'basic', 'gender': '-unknown-'}, {'signup_method': 'basic', 'gender': 'FEMALE'}])"
      ]
     },
     "execution_count": 16,
     "metadata": {},
     "output_type": "execute_result"
    }
   ],
   "source": [
    "data.T.to_dict().values()"
   ]
  },
  {
   "cell_type": "code",
   "execution_count": 17,
   "metadata": {
    "collapsed": false
   },
   "outputs": [],
   "source": [
    "from sklearn.feature_extraction import DictVectorizer\n",
    "\n",
    "feat_names = data.columns\n",
    "data_dict = data.T.to_dict().values()\n",
    "\n",
    "vectorizer = DictVectorizer(sparse=False)\n",
    "train_data = vectorizer.fit_transform(data_dict)\n",
    "feat_names = vectorizer.get_feature_names()"
   ]
  },
  {
   "cell_type": "markdown",
   "metadata": {},
   "source": [
    "### Pre-processing Features\n",
    "* encode categorical variables with OneHotEncoder\n",
    "* populate missing value with Median (numeric), Mode (Categorical)"
   ]
  },
  {
   "cell_type": "code",
   "execution_count": 18,
   "metadata": {
    "collapsed": false
   },
   "outputs": [],
   "source": [
    "x_cat_feats = ['gender', 'signup_method', 'signup_flow', 'language', 'affiliate_channel', \\\n",
    "               'affiliate_provider', 'first_affiliate_tracked', 'signup_app', 'first_device_type', \\\n",
    "               'session_ind']\n",
    "               #'first_browser', 'session_ind']\n",
    "# first_affiliate_tracked\n",
    "x_num_feats = ['age']\n",
    "y_feat      = 'country_destination'"
   ]
  },
  {
   "cell_type": "code",
   "execution_count": 19,
   "metadata": {
    "collapsed": false
   },
   "outputs": [],
   "source": [
    "# handling Missing value\n",
    "# first_affiliate_tracked\n",
    "nan_idx = train_user['first_affiliate_tracked'].isnull()\n",
    "train_user.loc[nan_idx, 'first_affiliate_tracked'] = 'untracked'\n",
    "\n",
    "nan_idx = test_user['first_affiliate_tracked'].isnull()\n",
    "test_user.loc[nan_idx, 'first_affiliate_tracked'] = 'untracked'\n",
    "\n",
    "# age\n",
    "nan_idx = train_user['age'].isnull()\n",
    "age_median = train_user['age'].quantile(.5)\n",
    "train_user.loc[nan_idx, 'age'] = age_median\n",
    "\n",
    "nan_idx = test_user['age'].isnull()\n",
    "test_user.loc[nan_idx, 'age'] = age_median"
   ]
  },
  {
   "cell_type": "code",
   "execution_count": 20,
   "metadata": {
    "collapsed": false
   },
   "outputs": [],
   "source": [
    "# numeric variable, data tranformation\n",
    "def intAge(x):\n",
    "    int10 = (x-x%10)/10\n",
    "    if int10 < 2:\n",
    "        res = 1\n",
    "    elif int10 >= 8:\n",
    "        res = 8\n",
    "    else:\n",
    "        res = int10\n",
    "    return int10\n",
    "\n",
    "train_user['age_int10'] = train_user['age'].apply(intAge)\n",
    "test_user['age_int10'] = test_user['age'].apply(intAge)\n",
    "\n",
    "# handling categorical variable which was encoded by integers\n",
    "singup_flow_freqs = train_user['signup_flow'].value_counts() / train_user.shape[0]\n",
    "insign_signups = np.array(singup_flow_freqs.index)[singup_flow_freqs.values < 0.01].tolist()\n",
    "\n",
    "def signupFlowRecoder(x, infreq_types=None):\n",
    "    if infreq_types!=None:\n",
    "        res = -1 if x in infreq_types else x\n",
    "    else:\n",
    "        res = x\n",
    "    return str(res)\n",
    "\n",
    "train_user['signup_flow'] = train_user['signup_flow'].apply(lambda x: signupFlowRecoder(x, insign_signups))\n",
    "test_user['signup_flow'] = test_user['signup_flow'].apply(lambda x: signupFlowRecoder(x, insign_signups))"
   ]
  },
  {
   "cell_type": "code",
   "execution_count": 21,
   "metadata": {
    "collapsed": false
   },
   "outputs": [],
   "source": [
    "# categorical variables transformation\n",
    "from sklearn.feature_extraction import DictVectorizer\n",
    "\n",
    "cat_train_dict = train_user[x_cat_feats].T.to_dict().values()\n",
    "cat_test_dict = test_user[x_cat_feats].T.to_dict().values()\n",
    "\n",
    "# training vectorizer \n",
    "vectorizer    = DictVectorizer(sparse=False)\n",
    "cat_train_vec = vectorizer.fit_transform(cat_train_dict)\n",
    "cat_test_vec  = vectorizer.transform(cat_test_dict)\n",
    "\n",
    "# retrieve transformed feature names\n",
    "vec_featnames = vectorizer.get_feature_names()"
   ]
  },
  {
   "cell_type": "code",
   "execution_count": 31,
   "metadata": {
    "collapsed": false
   },
   "outputs": [],
   "source": [
    "# convert dependent variable\n",
    "from sklearn.preprocessing import LabelBinarizer\n",
    "\n",
    "LabelEncoder = LabelBinarizer()\n",
    "y = LabelEncoder.fit_transform(train_user[y_feat])"
   ]
  },
  {
   "cell_type": "code",
   "execution_count": 23,
   "metadata": {
    "collapsed": false
   },
   "outputs": [],
   "source": [
    "# complete predictor x\n",
    "cat_train_df = pd.DataFrame(cat_train_vec, columns=vec_featnames)\n",
    "train_frames = [cat_train_df, train_user['age_int10']]\n",
    "x_train_df = pd.concat(train_frames, axis=1)\n",
    "#x_train_df.set_index(train_user['id'])\n",
    "\n",
    "cat_test_df = pd.DataFrame(cat_test_vec, columns=vec_featnames)\n",
    "test_frames = [cat_test_df, test_user['age_int10']]\n",
    "x_test_df = pd.concat(test_frames, axis=1)"
   ]
  },
  {
   "cell_type": "code",
   "execution_count": 24,
   "metadata": {
    "collapsed": true
   },
   "outputs": [],
   "source": [
    "# rename test data to avoid confusion in cross_validation\n",
    "x_new_df = x_test_df"
   ]
  },
  {
   "cell_type": "code",
   "execution_count": 25,
   "metadata": {
    "collapsed": false
   },
   "outputs": [
    {
     "data": {
      "text/plain": [
       "(171239, 20)"
      ]
     },
     "execution_count": 25,
     "metadata": {},
     "output_type": "execute_result"
    }
   ],
   "source": [
    "y.shape"
   ]
  },
  {
   "cell_type": "code",
   "execution_count": 26,
   "metadata": {
    "collapsed": false
   },
   "outputs": [
    {
     "data": {
      "text/plain": [
       "(171239, 84)"
      ]
     },
     "execution_count": 26,
     "metadata": {},
     "output_type": "execute_result"
    }
   ],
   "source": [
    "x_train_df.shape"
   ]
  },
  {
   "cell_type": "markdown",
   "metadata": {},
   "source": [
    "#### develop first RandomForest Model"
   ]
  },
  {
   "cell_type": "code",
   "execution_count": 32,
   "metadata": {
    "collapsed": false
   },
   "outputs": [],
   "source": [
    "from sklearn.cross_validation import train_test_split\n",
    "\n",
    "random_seed = 1234\n",
    "\n",
    "# split data to Development and Test\n",
    "x_dev, x_test, y_dev, y_test = train_test_split(x_train_df, y, test_size=0.2, \n",
    "                                                    random_state=random_seed )\n",
    "\n",
    "# split data to Training and Validation\n",
    "x_train, x_valid, y_train, y_valid = train_test_split(x_dev, y_dev, test_size=0.3, \n",
    "                                                    random_state=random_seed)"
   ]
  },
  {
   "cell_type": "code",
   "execution_count": 33,
   "metadata": {
    "collapsed": false
   },
   "outputs": [
    {
     "data": {
      "text/plain": [
       "RandomForestClassifier(bootstrap=True, class_weight=None, criterion='gini',\n",
       "            max_depth=None, max_features='auto', max_leaf_nodes=None,\n",
       "            min_samples_leaf=1, min_samples_split=2,\n",
       "            min_weight_fraction_leaf=0.0, n_estimators=100, n_jobs=2,\n",
       "            oob_score=False, random_state=None, verbose=0,\n",
       "            warm_start=False)"
      ]
     },
     "execution_count": 33,
     "metadata": {},
     "output_type": "execute_result"
    }
   ],
   "source": [
    "# develop random forest\n",
    "from sklearn.ensemble import RandomForestClassifier as RF\n",
    "\n",
    "# parameter configuration\n",
    "n_trees = 100\n",
    "max_features = int( round( np.sqrt( x_train.shape[1] ) * 2 )) # try more features at each split\n",
    "max_features = 'auto'\n",
    "n_jobs = 2\n",
    "\n",
    "# turn off deprecated function warning\n",
    "import warnings\n",
    "warnings.filterwarnings(\"ignore\")\n",
    "\n",
    "rf = RF( n_estimators = n_trees, max_features = max_features, n_jobs = n_jobs )\n",
    "rf.fit( x_train, y_train )"
   ]
  },
  {
   "cell_type": "code",
   "execution_count": 132,
   "metadata": {
    "collapsed": false
   },
   "outputs": [],
   "source": [
    "valid_pred_prob  = rf.predict_proba(x_valid)\n"
   ]
  },
  {
   "cell_type": "code",
   "execution_count": 217,
   "metadata": {
    "collapsed": true
   },
   "outputs": [],
   "source": [
    "def getUserClassProb(row_idx, multiclass_prob):\n",
    "    \"\"\" return a particular row's probability production\n",
    "        generated by multi_class_estimator.predict_proba()\n",
    "    \n",
    "    Parameters:\n",
    "    ----------\n",
    "    row_idx: <integer> the row_index where values \n",
    "    multiclass_prob: <numpy.array> output of \n",
    "        sklearn.multi_class_estimator.predict_proba()\n",
    "    \n",
    "    Return:\n",
    "    ------\n",
    "    res: <vector-like, float> \n",
    "    \"\"\"\n",
    "    return [col[row_idx][1] for col in multiclass_prob]\n",
    "\n",
    "def getTopKLabel(probas, all_labels, K=5, weights=None):\n",
    "    \"\"\" extract top k most prossible labels\n",
    "    \n",
    "    Parameters:\n",
    "    ----------\n",
    "    probas: <vector-like, float>, the vector of predcited \n",
    "         likelihood for each possible labels/classes\n",
    "    all_labels: <vector-like, label>, the vector of all\n",
    "         possible labels which can be assigned to sample\n",
    "    K: <integer> the number of labels returned as prediction\n",
    "    weights: <vector-like> the weights can be assigned to\n",
    "         every label's prediction\n",
    "    \n",
    "    Returns:\n",
    "    --------\n",
    "    res: <vector-like> a vector of predicted label of size\n",
    "         defined by K\n",
    "    \"\"\"\n",
    "    import numpy as np\n",
    "    \n",
    "    if len(probas) != len(all_labels):\n",
    "        raise ValueError(\"all_lables's length is different from probas'\")\n",
    "    \n",
    "    if weights == None:\n",
    "        weighted_prob = probas\n",
    "    else: \n",
    "        if len(weights) != len(all_labels):\n",
    "            raise ValueError(\"all_lables's length is different from weights'\")\n",
    "        weighted_prob = np.array(probas) * np.array(weights)\n",
    "        \n",
    "    predDict = [(a, b) for a, b in zip(class_labels, weighted_prob)]\n",
    "    sortedPred = sorted(predDict, key=lambda x:x[1], reverse=True)\n",
    "    res = [x[0] for i,x in enumerate(sortedPred) if i < K]\n",
    "    \n",
    "    return res\n",
    "\n",
    "def getPredLabel(x, class_labels):\n",
    "    try:\n",
    "        idx = [i for i, val in enumerate(x) if val==1][0]\n",
    "        label = class_labels[idx]\n",
    "    except:\n",
    "        label = 'NDF'\n",
    "    return label\n",
    "\n",
    "def calDCG (pred_labels, true_label):\n",
    "    \"\"\" calculate discounted Cumulative Gain\n",
    "        \n",
    "    Parameters:\n",
    "    -----------\n",
    "    pred_labels: <vector-like, list> sorted prediction labels\n",
    "    true_label: <value> string or integer denotes the true label\n",
    "    \n",
    "    Returns:\n",
    "    --------\n",
    "    score: <float> NDCG score\n",
    "    \"\"\"\n",
    "    score = 0\n",
    "    for i, label in enumerate(pred_labels):\n",
    "        power = 1 if label == true_label else 0\n",
    "        score += (2**power-1) / np.log2(i+1+1) # 0-based index should be adjusted up by 1\n",
    "        if power == 1:\n",
    "            break\n",
    "    return score"
   ]
  },
  {
   "cell_type": "code",
   "execution_count": 218,
   "metadata": {
    "collapsed": false
   },
   "outputs": [],
   "source": [
    "# API example:\n",
    "\n",
    "# proba_list = getUserClassProb(0, valid_pred_prob)\n",
    "# pred_labels = getTopKLabel(proba_list, class_labels)\n",
    "# calDCG(pred_labels, 'FR')"
   ]
  },
  {
   "cell_type": "code",
   "execution_count": 242,
   "metadata": {
    "collapsed": false
   },
   "outputs": [],
   "source": [
    "# make prediction\n",
    "valid_pred_prob  = rf.predict_proba(x_valid)\n",
    "\n",
    "# evaluate the performance\n",
    "tot_DCG = 0\n",
    "DCG_list = []\n",
    "pred_labels_list = []\n",
    "counter = 1\n",
    "\n",
    "for row_idx in np.arange(x_valid.shape[0]):\n",
    "    the_true_label  = getPredLabel(y_valid[row_idx], class_labels)\n",
    "    the_proba_list  = getUserClassProb(row_idx, valid_pred_prob)\n",
    "    the_pred_labels = getTopKLabel(the_proba_list, class_labels, K=5, weights=None)\n",
    "    the_DCG = calDCG(the_pred_labels, the_true_label)\n",
    "    \n",
    "    DCG_list.append(the_DCG)\n",
    "    pred_labels_list.append(the_pred_labels)\n",
    "    \n",
    "    tot_DCG += the_DCG\n",
    "    counter += 1\n",
    "\n",
    "NDCG = tot_DCG / counter"
   ]
  },
  {
   "cell_type": "code",
   "execution_count": 243,
   "metadata": {
    "collapsed": false
   },
   "outputs": [
    {
     "data": {
      "text/plain": [
       "0.8004"
      ]
     },
     "execution_count": 243,
     "metadata": {},
     "output_type": "execute_result"
    }
   ],
   "source": [
    "NDCG "
   ]
  },
  {
   "cell_type": "code",
   "execution_count": 239,
   "metadata": {
    "collapsed": false
   },
   "outputs": [],
   "source": [
    "def calNDCG(pred_prob, true_labels, all_labels, K, weights=None, return_prediction=False):\n",
    "    \"\"\" calcualte Normalized Discrete Comulative Gain\n",
    "    \n",
    "    Paramters:\n",
    "    ---------\n",
    "    pred_prob: <matrix-like, float> probabilities <n_samples, n_classes>\n",
    "    true_labels: <vector-like, integer or string> the list of true labels of samples \n",
    "    all_labels: <vecotor-like, integer or string> all possible classes\n",
    "    K: <integer> the number of prediction can be made for a sample\n",
    "    weights: <vector-like, float> the weights assigned to adjust class-wise\n",
    "        probability piror to prediciton ranking\n",
    "    return_prediction: <boolean> return_prediction==True, it returns \n",
    "        predicted labels per sample in list structure\n",
    "        \n",
    "    Returns:\n",
    "    -------\n",
    "    NDCG: <numeric> \n",
    "    pred_labels_list: <list, list> \n",
    "    \"\"\"\n",
    "    \n",
    "    tot_DCG = 0\n",
    "    DCG_list = []\n",
    "    pred_labels_list = []\n",
    "    counter = 1\n",
    "    \n",
    "    if pred_prob.shape[0] != len(true_labels):\n",
    "        msg = \"ERROR: pred_prob is not compatible with true_labels !\"\n",
    "        raise  ValueError(msg)\n",
    "\n",
    "    for row_idx in np.arange(x_valid.shape[0]):\n",
    "        the_true_label  = true_labels[row_idx]\n",
    "        the_proba_list  = getUserClassProb(row_idx, valid_pred_prob)\n",
    "        the_pred_labels = getTopKLabel(the_proba_list, all_labels, K=5, weights=weights)\n",
    "        the_DCG = calDCG(the_pred_labels, the_true_label)\n",
    "    \n",
    "        DCG_list.append(the_DCG)\n",
    "        pred_labels_list.append(the_pred_labels)\n",
    "    \n",
    "        tot_DCG += the_DCG\n",
    "        counter += 1\n",
    "\n",
    "    NDCG = tot_DCG / counter\n",
    "    \n",
    "    if return_prediction == True:\n",
    "        return (NDCG, pred_labels_list)\n",
    "    else:\n",
    "        return NDCG"
   ]
  },
  {
   "cell_type": "code",
   "execution_count": 240,
   "metadata": {
    "collapsed": true
   },
   "outputs": [],
   "source": [
    "true_labels = [getPredLabel(row, class_labels) for row in y_valid]"
   ]
  },
  {
   "cell_type": "code",
   "execution_count": 244,
   "metadata": {
    "collapsed": false
   },
   "outputs": [
    {
     "ename": "AttributeError",
     "evalue": "'list' object has no attribute 'shape'",
     "output_type": "error",
     "traceback": [
      "\u001b[0;31m---------------------------------------------------------------------------\u001b[0m",
      "\u001b[0;31mAttributeError\u001b[0m                            Traceback (most recent call last)",
      "\u001b[0;32m<ipython-input-244-07388d48db3a>\u001b[0m in \u001b[0;36m<module>\u001b[0;34m()\u001b[0m\n\u001b[0;32m----> 1\u001b[0;31m \u001b[0mres\u001b[0m \u001b[0;34m=\u001b[0m \u001b[0mcalNDCG\u001b[0m\u001b[0;34m(\u001b[0m\u001b[0mvalid_pred_prob\u001b[0m\u001b[0;34m,\u001b[0m \u001b[0mtrue_labels\u001b[0m\u001b[0;34m,\u001b[0m \u001b[0mclass_labels\u001b[0m\u001b[0;34m,\u001b[0m \u001b[0mK\u001b[0m\u001b[0;34m=\u001b[0m\u001b[0;36m5\u001b[0m\u001b[0;34m)\u001b[0m\u001b[0;34m\u001b[0m\u001b[0m\n\u001b[0m",
      "\u001b[0;32m<ipython-input-239-5a78c46e3d98>\u001b[0m in \u001b[0;36mcalNDCG\u001b[0;34m(pred_prob, true_labels, all_labels, K, weights, return_prediction)\u001b[0m\n\u001b[1;32m     24\u001b[0m     \u001b[0mcounter\u001b[0m \u001b[0;34m=\u001b[0m \u001b[0;36m1\u001b[0m\u001b[0;34m\u001b[0m\u001b[0m\n\u001b[1;32m     25\u001b[0m \u001b[0;34m\u001b[0m\u001b[0m\n\u001b[0;32m---> 26\u001b[0;31m     \u001b[0;32mif\u001b[0m \u001b[0mpred_prob\u001b[0m\u001b[0;34m.\u001b[0m\u001b[0mshape\u001b[0m\u001b[0;34m[\u001b[0m\u001b[0;36m0\u001b[0m\u001b[0;34m]\u001b[0m \u001b[0;34m!=\u001b[0m \u001b[0mlen\u001b[0m\u001b[0;34m(\u001b[0m\u001b[0mtrue_labels\u001b[0m\u001b[0;34m)\u001b[0m\u001b[0;34m:\u001b[0m\u001b[0;34m\u001b[0m\u001b[0m\n\u001b[0m\u001b[1;32m     27\u001b[0m         \u001b[0mmsg\u001b[0m \u001b[0;34m=\u001b[0m \u001b[0;34m\"ERROR: pred_prob is not compatible with true_labels !\"\u001b[0m\u001b[0;34m\u001b[0m\u001b[0m\n\u001b[1;32m     28\u001b[0m         \u001b[0;32mraise\u001b[0m  \u001b[0mValueError\u001b[0m\u001b[0;34m(\u001b[0m\u001b[0mmsg\u001b[0m\u001b[0;34m)\u001b[0m\u001b[0;34m\u001b[0m\u001b[0m\n",
      "\u001b[0;31mAttributeError\u001b[0m: 'list' object has no attribute 'shape'"
     ]
    }
   ],
   "source": [
    "res = calNDCG(valid_pred_prob, true_labels, class_labels, K=5)"
   ]
  },
  {
   "cell_type": "code",
   "execution_count": 245,
   "metadata": {
    "collapsed": false
   },
   "outputs": [
    {
     "data": {
      "text/plain": [
       "41098"
      ]
     },
     "execution_count": 245,
     "metadata": {},
     "output_type": "execute_result"
    }
   ],
   "source": [
    "len(true_labels)"
   ]
  },
  {
   "cell_type": "code",
   "execution_count": 247,
   "metadata": {
    "collapsed": false
   },
   "outputs": [
    {
     "data": {
      "text/plain": [
       "12"
      ]
     },
     "execution_count": 247,
     "metadata": {},
     "output_type": "execute_result"
    }
   ],
   "source": []
  },
  {
   "cell_type": "code",
   "execution_count": null,
   "metadata": {
    "collapsed": true
   },
   "outputs": [],
   "source": []
  }
 ],
 "metadata": {
  "kernelspec": {
   "display_name": "Python 3",
   "language": "python",
   "name": "python3"
  },
  "language_info": {
   "codemirror_mode": {
    "name": "ipython",
    "version": 3
   },
   "file_extension": ".py",
   "mimetype": "text/x-python",
   "name": "python",
   "nbconvert_exporter": "python",
   "pygments_lexer": "ipython3",
   "version": "3.4.3"
  }
 },
 "nbformat": 4,
 "nbformat_minor": 0
}
